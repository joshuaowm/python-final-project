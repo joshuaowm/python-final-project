{
 "cells": [
  {
   "cell_type": "markdown",
   "id": "c1fe0d4c",
   "metadata": {},
   "source": [
    "# Satellite Image Classification Demo\n",
    "\n",
    "This notebook demonstrates how to use the satellite image classification utilities for comparing multiple pretrained models on satellite imagery."
   ]
  },
  {
   "cell_type": "markdown",
   "id": "a706060c",
   "metadata": {},
   "source": [
    "## Setup and Import"
   ]
  },
  {
   "cell_type": "code",
   "execution_count": null,
   "id": "9a672e50",
   "metadata": {},
   "outputs": [],
   "source": [
    "import sys\n",
    "import os\n",
    "sys.path.append(os.path.abspath(os.path.join(os.getcwd(), '..')))\n",
    "\n",
    "from satellite_classifier import load_pretrained_models, classify_satellite_image, visualize_comparison, export_results"
   ]
  },
  {
   "cell_type": "markdown",
   "id": "d694f49b",
   "metadata": {},
   "source": [
    "## Step 1: Load Pre-trained Models"
   ]
  },
  {
   "cell_type": "code",
   "execution_count": null,
   "id": "4d8d7956",
   "metadata": {},
   "outputs": [],
   "source": [
    "print(\"Loading pretrained models...\")\n",
    "models = load_pretrained_models()"
   ]
  },
  {
   "cell_type": "markdown",
   "id": "5a1db13a",
   "metadata": {},
   "source": [
    "## Step 2: Classify Satellite Images\n",
    "You can use a local path or a URL (replace the example with a real satellite image URL if you have one)\n",
    "\n",
    "**Make sure the URL is directly linkable to an image file (e.g., .jpg, .png)**"
   ]
  },
  {
   "cell_type": "code",
   "execution_count": null,
   "id": "d21b95b6",
   "metadata": {},
   "outputs": [],
   "source": [
    "# Classify an image (example with a local satellite image)\n",
    "# If using a local file:\n",
    "# image_path = \"../data/example_images/your_satellite_image.jpg\"\n",
    "image_path = '../data/test_4.png' \n",
    "if not os.path.exists(image_path):\n",
    "    raise FileNotFoundError(f\"Image not found: {image_path}\")\n",
    "\n",
    "print(f\"\\nClassifying image: {image_path}\")\n",
    "results = classify_satellite_image(models, image_path)\n",
    "\n",
    "# Print summary of results\n",
    "print(f\"\\nClassification completed!\")\n",
    "print(f\"Models processed: {len(results)}\")\n",
    "for model_name, result in results.items():\n",
    "    if 'error' not in result:\n",
    "        top_prediction = result['predictions'][0]\n",
    "        print(f\"  {model_name}: {top_prediction['class']} ({top_prediction['confidence']:.3f})\")\n",
    "    else:\n",
    "        print(f\"  {model_name}: Error - {result['error']}\")"
   ]
  },
  {
   "cell_type": "markdown",
   "id": "f85a5f88",
   "metadata": {},
   "source": [
    "## Step 3: Visualize Comparison Results\n",
    "\n",
    "How to interpret the results:\n",
    "- Each model's top prediction is displayed along with its confidence score.\n",
    "- If a model fails to classify the image, an error message is shown instead."
   ]
  },
  {
   "cell_type": "code",
   "execution_count": null,
   "id": "b53ffc9d",
   "metadata": {},
   "outputs": [],
   "source": [
    "visualize_comparison(image_path, results, \"Satellite Image Classification Comparison\")"
   ]
  },
  {
   "cell_type": "markdown",
   "id": "e318ee92",
   "metadata": {},
   "source": [
    "## Step 4: Model Performance Summary and export\n",
    "\n",
    "This last step provides a summary of the models processed and their classification results. It includes the number of models processed and a detailed output for each model's predictions."
   ]
  },
  {
   "cell_type": "code",
   "execution_count": null,
   "id": "b54ca4ed",
   "metadata": {},
   "outputs": [],
   "source": [
    "# Display detailed results for analysis\n",
    "def print_detailed_results(results, image_name):\n",
    "    \"\"\"Print detailed classification results for analysis\"\"\"\n",
    "    print(f\"\\n{'='*60}\")\n",
    "    print(f\"DETAILED RESULTS FOR: {image_name}\")\n",
    "    print(f\"{'='*60}\")\n",
    "    \n",
    "    for model_name, result in results.items():\n",
    "        print(f\"\\n🤖 {model_name}\")\n",
    "        print(\"-\" * 40)\n",
    "        \n",
    "        if 'error' in result:\n",
    "            print(f\"❌ Error: {result['error']}\")\n",
    "            continue\n",
    "            \n",
    "        print(f\"Number of classes: {result['num_classes']}\")\n",
    "        print(\"Top 5 predictions:\")\n",
    "        \n",
    "        for i, pred in enumerate(result['predictions'][:5], 1):\n",
    "            bar_length = int(pred['confidence'] * 30)\n",
    "            confidence_bar = \"█\" * bar_length + \"░\" * (30 - bar_length)\n",
    "            print(f\"  {i}. {pred['class']:<25} {pred['confidence']:.4f} │{confidence_bar}│\")\n",
    "\n",
    "# Show detailed results for the first image\n",
    "print_detailed_results(results, image_path)"
   ]
  },
  {
   "cell_type": "code",
   "execution_count": null,
   "id": "78940d21",
   "metadata": {},
   "outputs": [],
   "source": [
    "# Save results to a text file for further analysis\n",
    "export_results(mode='json', results=results, output_dir='../results')\n",
    "print(\"Results exported to ../results\")"
   ]
  }
 ],
 "metadata": {
  "kernelspec": {
   "display_name": "python_final",
   "language": "python",
   "name": "python3"
  },
  "language_info": {
   "codemirror_mode": {
    "name": "ipython",
    "version": 3
   },
   "file_extension": ".py",
   "mimetype": "text/x-python",
   "name": "python",
   "nbconvert_exporter": "python",
   "pygments_lexer": "ipython3",
   "version": "3.9.16"
  }
 },
 "nbformat": 4,
 "nbformat_minor": 5
}
