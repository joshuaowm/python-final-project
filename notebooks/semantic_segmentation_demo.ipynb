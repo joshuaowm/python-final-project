{
 "cells": [
  {
   "cell_type": "markdown",
   "id": "c1fe0d4c",
   "metadata": {},
   "source": [
    "# Semantic Segmentation Demo\n",
    "\n",
    "This notebook demonstrates how to use the semantic segmentation utilities for segmenting image on various pretrained models. \n",
    "By default, this notebook will import the following models:\n",
    "\n",
    "- ResNet50_EuroSAT\n",
    "- ResNet18_LandCover\n",
    "- ResNet18_ImageNet\n",
    "- ResNet50_ImageNet\n",
    "- ResNet18_Aerial"
   ]
  },
  {
   "cell_type": "code",
   "execution_count": 3,
   "id": "cfa56247-8b52-4efd-96ab-246d1cd19cfd",
   "metadata": {},
   "outputs": [
    {
     "name": "stdout",
     "output_type": "stream",
     "text": [
      "==================================================\n",
      "STEP 1: LOADING LIBRARIES AND MODELS\n",
      "==================================================\n",
      "Using device: cpu\n",
      "CUDA available: False\n",
      "\n",
      "Loading model: SegFormer B0 (ADE20K)\n",
      "Model path: nvidia/segformer-b0-finetuned-ade-512-512\n",
      "✅ Model loaded successfully!\n",
      "\n",
      "Model Information:\n",
      "- Architecture: SegFormer\n",
      "- Dataset: ADE20K (150 classes)\n",
      "- Input resolution: 512x512\n",
      "- Parameters: ~3.8M\n"
     ]
    }
   ],
   "source": [
    "# Step 1: Loading Libraries and Models\n",
    "print(\"=\" * 50)\n",
    "print(\"STEP 1: LOADING LIBRARIES AND MODELS\")\n",
    "print(\"=\" * 50)\n",
    "\n",
    "# Import required libraries\n",
    "import numpy as np\n",
    "import matplotlib.pyplot as plt\n",
    "from PIL import Image\n",
    "import torch\n",
    "import time\n",
    "from transformers import (\n",
    "    AutoModelForSemanticSegmentation, \n",
    "    AutoImageProcessor,\n",
    "    SegformerImageProcessor,\n",
    "    SegformerForSemanticSegmentation\n",
    ")\n",
    "\n",
    "# Set up plotting style\n",
    "plt.style.use('default')\n",
    "plt.rcParams['figure.figsize'] = [12, 8]\n",
    "\n",
    "# Check device availability\n",
    "device = torch.device(\"cuda\" if torch.cuda.is_available() else \"cpu\")\n",
    "print(f\"Using device: {device}\")\n",
    "print(f\"CUDA available: {torch.cuda.is_available()}\")\n",
    "\n",
    "# Model configuration - Using SegFormer as example\n",
    "MODEL_NAME = \"nvidia/segformer-b0-finetuned-ade-512-512\"\n",
    "MODEL_DESCRIPTION = \"SegFormer B0 (ADE20K)\"\n",
    "\n",
    "print(f\"\\nLoading model: {MODEL_DESCRIPTION}\")\n",
    "print(f\"Model path: {MODEL_NAME}\")\n",
    "\n",
    "# Load model and processor\n",
    "try:\n",
    "    processor = SegformerImageProcessor.from_pretrained(MODEL_NAME)\n",
    "    model = SegformerForSemanticSegmentation.from_pretrained(MODEL_NAME)\n",
    "    model = model.to(device).eval()\n",
    "    print(\"✅ Model loaded successfully!\")\n",
    "except Exception as e:\n",
    "    print(f\"❌ Error loading model: {e}\")\n",
    "\n",
    "# Model information\n",
    "print(f\"\\nModel Information:\")\n",
    "print(f\"- Architecture: SegFormer\")\n",
    "print(f\"- Dataset: ADE20K (150 classes)\")\n",
    "print(f\"- Input resolution: 512x512\")\n",
    "print(f\"- Parameters: ~{sum(p.numel() for p in model.parameters()) / 1e6:.1f}M\")"
   ]
  },
  {
   "cell_type": "code",
   "execution_count": null,
   "id": "8fccb09c-3196-4036-9808-72507cb1bab8",
   "metadata": {},
   "outputs": [],
   "source": []
  }
 ],
 "metadata": {
  "kernelspec": {
   "display_name": "Python 3 (ipykernel)",
   "language": "python",
   "name": "python3"
  },
  "language_info": {
   "codemirror_mode": {
    "name": "ipython",
    "version": 3
   },
   "file_extension": ".py",
   "mimetype": "text/x-python",
   "name": "python",
   "nbconvert_exporter": "python",
   "pygments_lexer": "ipython3",
   "version": "3.9.16"
  }
 },
 "nbformat": 4,
 "nbformat_minor": 5
}
